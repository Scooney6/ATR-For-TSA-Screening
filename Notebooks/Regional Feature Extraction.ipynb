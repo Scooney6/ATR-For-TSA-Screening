{
 "cells": [
  {
   "cell_type": "markdown",
   "id": "f47f6062-3152-4ce5-8c75-131cfc674d50",
   "metadata": {},
   "source": [
    "# Regional Features"
   ]
  },
  {
   "cell_type": "code",
   "execution_count": 1,
   "id": "40d122a2-599e-4d5d-901c-17cad7e47f01",
   "metadata": {},
   "outputs": [],
   "source": [
    "import numpy as np\n",
    "import pandas as pd\n",
    "import nibabel as nib\n",
    "import itertools\n",
    "import time"
   ]
  },
  {
   "cell_type": "markdown",
   "id": "a7509cfa-bf97-4eb4-8015-d878f16995ca",
   "metadata": {},
   "source": [
    "### Load data"
   ]
  },
  {
   "cell_type": "code",
   "execution_count": 2,
   "id": "1d204171-250b-43c9-8937-8f229f63a01b",
   "metadata": {
    "tags": []
   },
   "outputs": [],
   "source": [
    "df = pd.read_csv('../data/ATR_GT_Training.csv', header=None, names=['file','label'])\n",
    "df.file = df.file.map(lambda x: x.replace(\"'\",''))\n",
    "df['img'] = df.file.map(lambda x: nib.load('../data/' + str(x) + '.nii.gz'))"
   ]
  },
  {
   "cell_type": "markdown",
   "id": "a7a11ce1-c260-4cb8-b268-18a5f6496b75",
   "metadata": {},
   "source": [
    "### Define functions to calculate blocks and block means"
   ]
  },
  {
   "cell_type": "code",
   "execution_count": 3,
   "id": "58f00c19-fe34-44af-8a04-9b9ddf46d034",
   "metadata": {},
   "outputs": [],
   "source": [
    "def before_after(a, total_width):\n",
    "    before = (total_width-a)//2\n",
    "    after = total_width-before-a\n",
    "    return (before, after)\n",
    "\n",
    "\n",
    "def get_pad_width(x,y,z,total_width=400):\n",
    "    return (before_after(x,total_width),\n",
    "            before_after(y,total_width),\n",
    "            before_after(z,total_width))\n",
    "\n",
    "\n",
    "def get_padded_data(data, width=400):\n",
    "    x,y,z = list(data.shape)\n",
    "    return np.pad(data,get_pad_width(x,y,z),'constant',constant_values=0)\n",
    "\n",
    "\n",
    "def get_block_means(data, width=400, num_blocks=4):\n",
    "    block_means=[]\n",
    "    ix = []\n",
    "    for i in range(num_blocks):\n",
    "        ix.append([width // num_blocks * i, width // num_blocks * (i+1)])\n",
    "    count = 0\n",
    "    for i, j, k in itertools.product(ix,ix,ix):\n",
    "        block_means.append(np.mean(data[i[0]:i[-1],j[0]:j[-1],k[0]:k[-1]]))\n",
    "    return block_means\n",
    "\n",
    "\n",
    "def get_centered_block_means(data, width=400, num_blocks=10):\n",
    "    ix = []\n",
    "    for i in range(num_blocks):\n",
    "        half_width = width//2\n",
    "        half_region = width//num_blocks//2*(i+1)\n",
    "        ix.append([half_width-half_region, half_width+half_region])\n",
    "    centered_means = []\n",
    "    for i in ix:\n",
    "        centered_means.append(np.mean(padded[i[0]:i[-1],i[0]:i[-1],i[0]:i[-1]]))\n",
    "    return centered_means"
   ]
  },
  {
   "cell_type": "markdown",
   "id": "12917d5d-4177-4adf-bba5-8b39e9c24b30",
   "metadata": {},
   "source": [
    "### Define feature labels"
   ]
  },
  {
   "cell_type": "code",
   "execution_count": 4,
   "id": "78e4883f-fde6-4b10-8c6c-ba1e440f88ac",
   "metadata": {},
   "outputs": [],
   "source": [
    "blocks = 4\n",
    "block_labels = ['block_' + str(x) + '_mean' for x in range(1,blocks**3+1)]\n",
    "centered_blocks = 10\n",
    "centered_block_labels = ['centered_block_' + str(x) + '_mean' for x in range(1,centered_blocks+1)]\n",
    "new_features = block_labels + centered_block_labels\n",
    "df = df.reindex(columns = df.columns.tolist() + new_features)"
   ]
  },
  {
   "cell_type": "markdown",
   "id": "8cb57fc5-2e74-47e6-ad66-298a3189f092",
   "metadata": {},
   "source": [
    "### Calculate 64 block means"
   ]
  },
  {
   "cell_type": "code",
   "execution_count": 5,
   "id": "21b6a719-5b53-479e-a31c-713364fe2dae",
   "metadata": {
    "tags": []
   },
   "outputs": [
    {
     "name": "stdout",
     "output_type": "stream",
     "text": [
      "Finished 25 images.\n",
      "Finished 50 images.\n",
      "Finished 75 images.\n",
      "Finished 100 images.\n",
      "Finished 125 images.\n",
      "Finished 150 images.\n",
      "Finished 175 images.\n",
      "Finished 200 images.\n",
      "Finished 225 images.\n",
      "Finished 250 images.\n",
      "Finished 275 images.\n",
      "Finished 300 images.\n",
      "Finished 325 images.\n",
      "Finished 350 images.\n",
      "Finished 375 images.\n",
      "Finished 400 images.\n",
      "Finished 425 images.\n",
      "Finished 450 images.\n",
      "Finished 475 images.\n",
      "Finished 500 images.\n",
      "Finished 525 images.\n",
      "Finished 550 images.\n",
      "Finished 575 images.\n",
      "Finished 600 images.\n",
      "Finished 625 images.\n",
      "Finished 650 images.\n",
      "Finished 675 images.\n",
      "Finished 700 images.\n",
      "Finished 725 images.\n",
      "Finished 750 images.\n",
      "Finished 775 images.\n",
      "Finished 800 images.\n",
      "Finished 825 images.\n",
      "Finished 850 images.\n",
      "Finished 875 images.\n",
      "Finished 900 images.\n",
      "Finished 925 images.\n",
      "Finished 950 images.\n",
      "Finished 975 images.\n",
      "Finished 1000 images.\n",
      "Finished 1025 images.\n",
      "Finished 1050 images.\n",
      "Finished 1075 images.\n",
      "Finished 1100 images.\n",
      "Finished 1125 images.\n",
      "Finished 1150 images.\n",
      "Finished 1175 images.\n",
      "Finished 1200 images.\n",
      "Finished 1225 images.\n",
      "Finished 1250 images.\n",
      "Finished 1275 images.\n",
      "Finished 1300 images.\n",
      "Finished 1325 images.\n",
      "Finished 1350 images.\n",
      "Finished 1375 images.\n",
      "Finished 1400 images.\n",
      "Finished 1425 images.\n",
      "Finished 1450 images.\n",
      "Finished.\n"
     ]
    }
   ],
   "source": [
    "features_regional = []\n",
    "for i, img in enumerate(df.img):\n",
    "    padded = get_padded_data(img.get_fdata())\n",
    "    region_means = get_block_means(padded)\n",
    "    centered_means = get_centered_block_means(padded)\n",
    "    features = region_means + centered_means\n",
    "    features_regional.append(features)\n",
    "    if i % 25 == 0 and i != 0:\n",
    "        print('Finished ' + str(i) + ' images.')\n",
    "print('Finished.')\n",
    "np.save('features_regional.npy', np.array(features_regional))"
   ]
  }
 ],
 "metadata": {
  "kernelspec": {
   "display_name": "Python 3 (ipykernel)",
   "language": "python",
   "name": "python3"
  },
  "language_info": {
   "codemirror_mode": {
    "name": "ipython",
    "version": 3
   },
   "file_extension": ".py",
   "mimetype": "text/x-python",
   "name": "python",
   "nbconvert_exporter": "python",
   "pygments_lexer": "ipython3",
   "version": "3.11.3"
  }
 },
 "nbformat": 4,
 "nbformat_minor": 5
}
