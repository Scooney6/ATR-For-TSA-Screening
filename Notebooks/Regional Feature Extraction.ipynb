{
 "cells": [
  {
   "cell_type": "code",
   "execution_count": 1,
   "id": "40d122a2-599e-4d5d-901c-17cad7e47f01",
   "metadata": {},
   "outputs": [],
   "source": [
    "import numpy as np\n",
    "import pandas as pd\n",
    "import nibabel as nib\n",
    "import itertools\n",
    "import time"
   ]
  },
  {
   "cell_type": "code",
   "execution_count": 2,
   "id": "58f00c19-fe34-44af-8a04-9b9ddf46d034",
   "metadata": {},
   "outputs": [],
   "source": [
    "def before_after(a, total_width):\n",
    "    before = (total_width-a)//2\n",
    "    after = total_width-before-a\n",
    "    return (before, after)\n",
    "\n",
    "\n",
    "def get_pad_width(x,y,z,total_width=400):\n",
    "    return (before_after(x,total_width),\n",
    "            before_after(y,total_width),\n",
    "            before_after(z,total_width))\n",
    "\n",
    "\n",
    "def get_padded_data(data, width=400):\n",
    "    x,y,z = list(data.shape)\n",
    "    return np.pad(data,get_pad_width(x,y,z),'constant',constant_values=0)\n",
    "\n",
    "\n",
    "def get_block_means(data, width=400, num_blocks=4):\n",
    "    block_means=[]\n",
    "    ix = []\n",
    "    for i in range(num_blocks):\n",
    "        ix.append([width // num_blocks * i, width // num_blocks * (i+1)])\n",
    "    count = 0\n",
    "    for i, j, k in itertools.product(ix,ix,ix):\n",
    "        block_means.append(np.mean(data[i[0]:i[-1],j[0]:j[-1],k[0]:k[-1]]))\n",
    "    return block_means\n",
    "\n",
    "\n",
    "def get_centered_block_means(data, width=400, num_blocks=10):\n",
    "    ix = []\n",
    "    for i in range(num_blocks):\n",
    "        half_width = width//2\n",
    "        half_region = width//num_blocks//2*(i+1)\n",
    "        ix.append([half_width-half_region, half_width+half_region])\n",
    "    centered_means = []\n",
    "    for i in ix:\n",
    "        centered_means.append(np.mean(padded[i[0]:i[-1],i[0]:i[-1],i[0]:i[-1]]))\n",
    "    return centered_means"
   ]
  },
  {
   "cell_type": "code",
   "execution_count": 3,
   "id": "1d204171-250b-43c9-8937-8f229f63a01b",
   "metadata": {
    "tags": []
   },
   "outputs": [],
   "source": [
    "df = pd.read_csv('../data/ATR_GT_Training.csv', header=None, names=['file','label'])\n",
    "df.file = df.file.map(lambda x: x.replace(\"'\",''))\n",
    "df['img'] = df.file.map(lambda x: nib.load('../data/' + str(x) + '.nii.gz'))"
   ]
  },
  {
   "cell_type": "code",
   "execution_count": 4,
   "id": "78e4883f-fde6-4b10-8c6c-ba1e440f88ac",
   "metadata": {},
   "outputs": [],
   "source": [
    "blocks = 4\n",
    "block_labels = ['block_' + str(x) + '_mean' for x in range(1,blocks**3+1)]\n",
    "centered_blocks = 10\n",
    "centered_block_labels = ['centered_block_' + str(x) + '_mean' for x in range(1,centered_blocks+1)]\n",
    "new_features = block_labels + centered_block_labels\n",
    "df = df.reindex(columns = df.columns.tolist() + new_features)"
   ]
  },
  {
   "cell_type": "code",
   "execution_count": 7,
   "id": "21b6a719-5b53-479e-a31c-713364fe2dae",
   "metadata": {},
   "outputs": [
    {
     "name": "stdout",
     "output_type": "stream",
     "text": [
      "i = 25        time for last 25 = 22.7      total time = 22.7      \n",
      "i = 50        time for last 25 = 22        total time = 44.7      \n",
      "i = 75        time for last 25 = 21.6      total time = 66.3      \n",
      "i = 100       time for last 25 = 22.1      total time = 88.4      \n",
      "i = 125       time for last 25 = 21.5      total time = 110       \n",
      "i = 150       time for last 25 = 22.6      total time = 132       \n",
      "i = 175       time for last 25 = 22.1      total time = 155       \n",
      "i = 200       time for last 25 = 21.2      total time = 176       \n",
      "i = 225       time for last 25 = 21.3      total time = 197       \n",
      "i = 250       time for last 25 = 21.8      total time = 219       \n",
      "i = 275       time for last 25 = 22.4      total time = 241       \n",
      "i = 300       time for last 25 = 22.1      total time = 263       \n",
      "i = 325       time for last 25 = 22.7      total time = 286       \n",
      "i = 350       time for last 25 = 21.3      total time = 307       \n",
      "i = 375       time for last 25 = 20.9      total time = 328       \n",
      "i = 400       time for last 25 = 21.9      total time = 350       \n",
      "i = 425       time for last 25 = 21.5      total time = 372       \n",
      "i = 450       time for last 25 = 22.4      total time = 394       \n",
      "i = 475       time for last 25 = 20.4      total time = 415       \n",
      "i = 500       time for last 25 = 23        total time = 438       \n",
      "i = 525       time for last 25 = 20.8      total time = 458       \n",
      "i = 550       time for last 25 = 22.4      total time = 481       \n",
      "i = 575       time for last 25 = 22.6      total time = 503       \n",
      "i = 600       time for last 25 = 21.1      total time = 524       \n",
      "i = 625       time for last 25 = 19.9      total time = 544       \n",
      "i = 650       time for last 25 = 20        total time = 564       \n",
      "i = 675       time for last 25 = 22        total time = 586       \n",
      "i = 700       time for last 25 = 22.8      total time = 609       \n",
      "i = 725       time for last 25 = 21.8      total time = 631       \n",
      "i = 750       time for last 25 = 21.7      total time = 653       \n",
      "i = 775       time for last 25 = 22.2      total time = 675       \n",
      "i = 800       time for last 25 = 22        total time = 697       \n",
      "i = 825       time for last 25 = 22.9      total time = 720       \n",
      "i = 850       time for last 25 = 22.1      total time = 742       \n",
      "i = 875       time for last 25 = 22        total time = 764       \n",
      "i = 900       time for last 25 = 20.2      total time = 784       \n",
      "i = 925       time for last 25 = 22.5      total time = 807       \n",
      "i = 950       time for last 25 = 21.1      total time = 828       \n",
      "i = 975       time for last 25 = 21.9      total time = 850       \n",
      "i = 1000      time for last 25 = 22.3      total time = 872       \n",
      "i = 1025      time for last 25 = 20.5      total time = 892       \n",
      "i = 1050      time for last 25 = 21.6      total time = 914       \n",
      "i = 1075      time for last 25 = 23.6      total time = 938       \n",
      "i = 1100      time for last 25 = 22.1      total time = 960       \n",
      "i = 1125      time for last 25 = 22.2      total time = 982       \n",
      "i = 1150      time for last 25 = 21.9      total time = 1e+03     \n",
      "i = 1175      time for last 25 = 21.9      total time = 1.03e+03  \n",
      "i = 1200      time for last 25 = 22.5      total time = 1.05e+03  \n",
      "i = 1225      time for last 25 = 22.6      total time = 1.07e+03  \n",
      "i = 1250      time for last 25 = 22.6      total time = 1.09e+03  \n",
      "i = 1275      time for last 25 = 21.8      total time = 1.12e+03  \n",
      "i = 1300      time for last 25 = 21.8      total time = 1.14e+03  \n",
      "i = 1325      time for last 25 = 20.7      total time = 1.16e+03  \n",
      "i = 1350      time for last 25 = 22.2      total time = 1.18e+03  \n",
      "i = 1375      time for last 25 = 21.7      total time = 1.2e+03   \n",
      "i = 1400      time for last 25 = 20.8      total time = 1.22e+03  \n",
      "i = 1425      time for last 25 = 21.3      total time = 1.24e+03  \n",
      "i = 1450      time for last 25 = 22.8      total time = 1.27e+03  \n",
      "Done\n"
     ]
    }
   ],
   "source": [
    "start = time.time()\n",
    "start100 = start\n",
    "features_regional = []\n",
    "for i, img in enumerate(df.img):\n",
    "    if i % 25 == 0 and i != 0:\n",
    "        now = time.time()\n",
    "        print('i = {:<10d}time for last 25 = {:<10.3g}total time = {:<10.3g}'.format(i,now-start100,now-start))\n",
    "        start100 = time.time()\n",
    "    padded = get_padded_data(img.get_fdata())\n",
    "    region_means = get_block_means(padded)\n",
    "    centered_means = get_centered_block_means(padded)\n",
    "    features = region_means + centered_means\n",
    "    features_regional.append(features)\n",
    "\n",
    "print('Done')\n",
    "np.save('features_regional.npy', np.array(features_regional))"
   ]
  },
  {
   "cell_type": "code",
   "execution_count": null,
   "id": "bfa69188-056e-4c30-930d-1a26f1ae8949",
   "metadata": {},
   "outputs": [],
   "source": []
  }
 ],
 "metadata": {
  "kernelspec": {
   "display_name": "Python 3 (ipykernel)",
   "language": "python",
   "name": "python3"
  },
  "language_info": {
   "codemirror_mode": {
    "name": "ipython",
    "version": 3
   },
   "file_extension": ".py",
   "mimetype": "text/x-python",
   "name": "python",
   "nbconvert_exporter": "python",
   "pygments_lexer": "ipython3",
   "version": "3.11.3"
  }
 },
 "nbformat": 4,
 "nbformat_minor": 5
}
