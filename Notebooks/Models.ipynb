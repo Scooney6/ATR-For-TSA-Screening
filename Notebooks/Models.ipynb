{
 "cells": [
  {
   "cell_type": "code",
   "execution_count": 1,
   "metadata": {
    "cell_id": "5cb2732ee0ad441095d9e996f64265c1",
    "deepnote_cell_type": "code",
    "deepnote_to_be_reexecuted": false,
    "execution_millis": 5,
    "execution_start": 1681698543093,
    "source_hash": "c76c7c51"
   },
   "outputs": [],
   "source": [
    "import pandas as pd\n",
    "import numpy as np"
   ]
  },
  {
   "cell_type": "code",
   "execution_count": 27,
   "metadata": {
    "cell_id": "52877f6986ec490fbc0848f452ecd6c8",
    "deepnote_cell_type": "code",
    "deepnote_to_be_reexecuted": false,
    "execution_millis": 33,
    "execution_start": 1681698543101,
    "source_hash": "d914b471"
   },
   "outputs": [
    {
     "ename": "ValueError",
     "evalue": "all the input array dimensions except for the concatenation axis must match exactly, but along dimension 0, the array at index 0 has size 1472 and the array at index 4 has size 1",
     "output_type": "error",
     "traceback": [
      "\u001b[1;31m---------------------------------------------------------------------------\u001b[0m",
      "\u001b[1;31mValueError\u001b[0m                                Traceback (most recent call last)",
      "Cell \u001b[1;32mIn[27], line 7\u001b[0m\n\u001b[0;32m      4\u001b[0m features_histogram \u001b[38;5;241m=\u001b[39m np\u001b[38;5;241m.\u001b[39mload(\u001b[38;5;124m'\u001b[39m\u001b[38;5;124mfeatures_histogram.npy\u001b[39m\u001b[38;5;124m'\u001b[39m)\n\u001b[0;32m      5\u001b[0m features_texture \u001b[38;5;241m=\u001b[39m np\u001b[38;5;241m.\u001b[39mload(\u001b[38;5;124m'\u001b[39m\u001b[38;5;124mtexture_flat_1.npy\u001b[39m\u001b[38;5;124m'\u001b[39m)\n\u001b[1;32m----> 7\u001b[0m features \u001b[38;5;241m=\u001b[39m \u001b[43mnp\u001b[49m\u001b[38;5;241;43m.\u001b[39;49m\u001b[43mconcatenate\u001b[49m\u001b[43m(\u001b[49m\u001b[43m(\u001b[49m\u001b[43mfeatures_regional\u001b[49m\u001b[43m,\u001b[49m\u001b[43m \u001b[49m\u001b[43mfeatures_shape\u001b[49m\u001b[43m,\u001b[49m\n\u001b[0;32m      8\u001b[0m \u001b[43m                           \u001b[49m\u001b[43mfeatures_stats\u001b[49m\u001b[43m,\u001b[49m\u001b[43mfeatures_histogram\u001b[49m\u001b[43m,\u001b[49m\u001b[43mnp\u001b[49m\u001b[38;5;241;43m.\u001b[39;49m\u001b[43mnan_to_num\u001b[49m\u001b[43m(\u001b[49m\u001b[43mfeatures_texture\u001b[49m\u001b[43m)\u001b[49m\u001b[43m)\u001b[49m\u001b[43m,\u001b[49m\u001b[43maxis\u001b[49m\u001b[38;5;241;43m=\u001b[39;49m\u001b[38;5;241;43m1\u001b[39;49m\u001b[43m)\u001b[49m\n\u001b[0;32m      9\u001b[0m features\u001b[38;5;241m.\u001b[39mshape\n",
      "File \u001b[1;32m<__array_function__ internals>:200\u001b[0m, in \u001b[0;36mconcatenate\u001b[1;34m(*args, **kwargs)\u001b[0m\n",
      "\u001b[1;31mValueError\u001b[0m: all the input array dimensions except for the concatenation axis must match exactly, but along dimension 0, the array at index 0 has size 1472 and the array at index 4 has size 1"
     ]
    }
   ],
   "source": [
    "features_regional = np.load('features_regional.npy')\n",
    "features_shape = np.load('features_shape.npy')\n",
    "features_stats = np.load('features_stats.npy')\n",
    "features_histogram = np.load('features_histogram.npy')\n",
    "features_texture = np.load('texture_flat_1.npy')\n",
    "\n",
    "features = np.concatenate((features_regional, features_shape,\n",
    "                           features_stats,features_histogram,np.nan_to_num(features_texture)),axis=1)\n",
    "features.shape"
   ]
  },
  {
   "cell_type": "code",
   "execution_count": 13,
   "metadata": {
    "cell_id": "35e9c077f2e140d19a84711a5603a2ee",
    "deepnote_cell_type": "code",
    "deepnote_to_be_reexecuted": false,
    "execution_millis": 563,
    "execution_start": 1681698543139,
    "source_hash": "f16b0eb7"
   },
   "outputs": [],
   "source": [
    "from sklearn import preprocessing\n",
    "\n",
    "labels = pd.read_csv('../data/ATR_GT_Training.csv', header=None)"
   ]
  },
  {
   "cell_type": "code",
   "execution_count": 14,
   "metadata": {
    "cell_id": "538b22b0212940c895aa75f02945ce25",
    "deepnote_cell_type": "code",
    "deepnote_to_be_reexecuted": false,
    "execution_millis": 4,
    "execution_start": 1681698543703,
    "source_hash": "fa399aac"
   },
   "outputs": [],
   "source": [
    "X = features[:1005]\n",
    "y = labels.iloc[:1005, 1]\n",
    "y_bin = (y!=0).astype(int)"
   ]
  },
  {
   "cell_type": "code",
   "execution_count": 15,
   "metadata": {
    "cell_id": "69470132b4fe4050a831bbba8862eec8",
    "deepnote_cell_type": "code",
    "deepnote_to_be_reexecuted": false,
    "execution_millis": 7,
    "execution_start": 1681698543708,
    "source_hash": "d18331dd"
   },
   "outputs": [],
   "source": [
    "X_scaled = preprocessing.scale(X)"
   ]
  },
  {
   "cell_type": "code",
   "execution_count": 16,
   "metadata": {
    "cell_id": "2e85fe7be60341fbb1d45a61a836ded4",
    "deepnote_cell_type": "code",
    "deepnote_to_be_reexecuted": false,
    "execution_millis": 3,
    "execution_start": 1681698543719,
    "source_hash": "a64aa049"
   },
   "outputs": [],
   "source": [
    "classifiers=[]"
   ]
  },
  {
   "cell_type": "code",
   "execution_count": 17,
   "metadata": {
    "cell_id": "202d1d0fdee249019f71904cce056e44",
    "deepnote_cell_type": "code",
    "deepnote_to_be_reexecuted": false,
    "execution_millis": 63,
    "execution_start": 1681698543723,
    "source_hash": "6af36175"
   },
   "outputs": [],
   "source": [
    "from sklearn import svm\n",
    "classifiers.append(['default svm', svm.SVC()])"
   ]
  },
  {
   "cell_type": "code",
   "execution_count": 18,
   "metadata": {
    "cell_id": "edb81d4ae3b24f228411d354f51746f5",
    "deepnote_cell_type": "code",
    "deepnote_to_be_reexecuted": false,
    "execution_millis": 116,
    "execution_start": 1681698543834,
    "source_hash": "e88bb441"
   },
   "outputs": [],
   "source": [
    "from sklearn.linear_model import LogisticRegression\n",
    "classifiers.append(['logistic reg', LogisticRegression(random_state=0, solver='lbfgs',multi_class='multinomial')])"
   ]
  },
  {
   "cell_type": "code",
   "execution_count": 19,
   "metadata": {
    "cell_id": "e6d48022ac634047834e93efeef8fae9",
    "deepnote_cell_type": "code",
    "deepnote_to_be_reexecuted": false,
    "execution_millis": 121,
    "execution_start": 1681698543834,
    "source_hash": "b96fc9be"
   },
   "outputs": [],
   "source": [
    "from sklearn.ensemble import AdaBoostClassifier\n",
    "classifiers.append(['adaboost', AdaBoostClassifier(n_estimators=100)])"
   ]
  },
  {
   "cell_type": "code",
   "execution_count": 20,
   "metadata": {
    "cell_id": "341186e37ec148bd9093156c934b8aa9",
    "deepnote_cell_type": "code",
    "deepnote_to_be_reexecuted": false,
    "execution_millis": 78,
    "execution_start": 1681698543878,
    "source_hash": "7c4c8950"
   },
   "outputs": [],
   "source": [
    "from sklearn.neighbors import KNeighborsClassifier\n",
    "classifiers.append(['knn 3', KNeighborsClassifier(n_neighbors=3)])"
   ]
  },
  {
   "cell_type": "code",
   "execution_count": 21,
   "metadata": {
    "cell_id": "1364214e9e8f4557b004483315a0aba1",
    "deepnote_cell_type": "code",
    "deepnote_to_be_reexecuted": false,
    "execution_millis": 78,
    "execution_start": 1681698543878,
    "source_hash": "82978c0e"
   },
   "outputs": [],
   "source": [
    "# Use a Multi-layer Perceptron classifier . It trains via backpropagation \n",
    "from sklearn.neural_network import MLPClassifier\n",
    "classifiers.append(['NN', MLPClassifier(solver='lbfgs', alpha=1e-5, hidden_layer_sizes=(5, 2), random_state=1)])"
   ]
  },
  {
   "cell_type": "code",
   "execution_count": 22,
   "metadata": {
    "cell_id": "94dbabf629604fb4ac02d914f7a34d48",
    "deepnote_cell_type": "code",
    "deepnote_to_be_reexecuted": false,
    "execution_millis": 36,
    "execution_start": 1681698543921,
    "source_hash": "4215db6f"
   },
   "outputs": [],
   "source": [
    "from sklearn.model_selection import cross_val_score\n",
    "def cross_validate(classifier,X,y,name,cv_=5):\n",
    "    scores = cross_val_score(classifier, X, y, cv=cv_)\n",
    "    print('Clf: {}\\nAccuracy: {:0.2f} +/- {:0.2f}'.format(name, scores.mean(), scores.std() * 2))"
   ]
  },
  {
   "cell_type": "code",
   "execution_count": 26,
   "metadata": {
    "cell_id": "606e2be759ee4644ad065089af579962",
    "deepnote_cell_type": "code",
    "deepnote_to_be_reexecuted": false,
    "execution_millis": 5049,
    "execution_start": 1681698543921,
    "source_hash": "b6e7c2c2"
   },
   "outputs": [
    {
     "name": "stdout",
     "output_type": "stream",
     "text": [
      "Clf: default svm\n",
      "Accuracy: 0.79 +/- 0.06\n",
      "Clf: logistic reg\n",
      "Accuracy: 0.78 +/- 0.07\n",
      "Clf: adaboost\n",
      "Accuracy: 0.84 +/- 0.08\n",
      "Clf: knn 3\n",
      "Accuracy: 0.82 +/- 0.08\n",
      "Clf: NN\n",
      "Accuracy: 0.82 +/- 0.06\n"
     ]
    }
   ],
   "source": [
    "import warnings\n",
    "warnings.filterwarnings('ignore')\n",
    "for classifier_name, classifier in classifiers:\n",
    "    cross_validate(classifier,X_scaled,y_bin,classifier_name)"
   ]
  },
  {
   "cell_type": "code",
   "execution_count": null,
   "metadata": {
    "cell_id": "72d2556d045b4f13b51a05649e418bb3",
    "deepnote_cell_type": "code",
    "deepnote_to_be_reexecuted": false,
    "execution_millis": 4889,
    "execution_start": 1681698548972,
    "source_hash": "fce3cc48"
   },
   "outputs": [],
   "source": [
    "from sklearn.ensemble import VotingClassifier\n",
    "eclf = VotingClassifier(estimators=classifiers, voting='hard')\n",
    "cross_validate(eclf,X_scaled,y_bin,'ensemble')"
   ]
  },
  {
   "cell_type": "code",
   "execution_count": null,
   "metadata": {
    "cell_id": "92a1e739365a4744a6b484b31cf6563b",
    "deepnote_cell_type": "code",
    "deepnote_to_be_reexecuted": false,
    "execution_millis": 1048,
    "execution_start": 1681702736416,
    "source_hash": "d1bc9924",
    "tags": []
   },
   "outputs": [],
   "source": [
    "eclf = eclf.fit(X, y)\n",
    "pred = eclf.predict(features[1005:])\n",
    "filenames = df_regional['file'].tolist()[1005:]\n",
    "pred_df = {'file': filenames, 'prediction': pred}\n",
    "pd.DataFrame(pred_df).to_csv('predictions.csv')"
   ]
  },
  {
   "cell_type": "code",
   "execution_count": null,
   "metadata": {},
   "outputs": [],
   "source": []
  }
 ],
 "metadata": {
  "deepnote": {},
  "deepnote_execution_queue": [],
  "deepnote_notebook_id": "28ceedd824fe4aa49323b59ce0255e98",
  "kernelspec": {
   "display_name": "Python 3 (ipykernel)",
   "language": "python",
   "name": "python3"
  },
  "language_info": {
   "codemirror_mode": {
    "name": "ipython",
    "version": 3
   },
   "file_extension": ".py",
   "mimetype": "text/x-python",
   "name": "python",
   "nbconvert_exporter": "python",
   "pygments_lexer": "ipython3",
   "version": "3.11.3"
  }
 },
 "nbformat": 4,
 "nbformat_minor": 4
}
