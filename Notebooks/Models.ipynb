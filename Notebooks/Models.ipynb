{
 "cells": [
  {
   "cell_type": "code",
   "execution_count": 1,
   "metadata": {
    "cell_id": "5cb2732ee0ad441095d9e996f64265c1",
    "deepnote_cell_type": "code",
    "deepnote_to_be_reexecuted": false,
    "execution_millis": 5,
    "execution_start": 1681698543093,
    "source_hash": "c76c7c51",
    "tags": []
   },
   "outputs": [],
   "source": [
    "import pandas as pd\n",
    "import numpy as np"
   ]
  },
  {
   "cell_type": "code",
   "execution_count": 2,
   "metadata": {
    "cell_id": "52877f6986ec490fbc0848f452ecd6c8",
    "deepnote_cell_type": "code",
    "deepnote_to_be_reexecuted": false,
    "execution_millis": 33,
    "execution_start": 1681698543101,
    "source_hash": "d914b471",
    "tags": []
   },
   "outputs": [
    {
     "data": {
      "text/plain": [
       "(1472, 327)"
      ]
     },
     "execution_count": 2,
     "metadata": {},
     "output_type": "execute_result"
    }
   ],
   "source": [
    "features_regional = np.load('features_regional.npy')\n",
    "features_shape = np.load('features_shape.npy')\n",
    "features_stats = np.load('features_stats.npy')\n",
    "features_histogram = np.load('features_histogram.npy')\n",
    "features_texture = np.load('features_texture.npy')\n",
    "\n",
    "features = np.concatenate((features_regional, features_shape,\n",
    "                           features_stats,features_histogram,np.nan_to_num(features_texture)),axis=1)\n",
    "features.shape"
   ]
  },
  {
   "cell_type": "code",
   "execution_count": 3,
   "metadata": {
    "cell_id": "35e9c077f2e140d19a84711a5603a2ee",
    "deepnote_cell_type": "code",
    "deepnote_to_be_reexecuted": false,
    "execution_millis": 563,
    "execution_start": 1681698543139,
    "source_hash": "f16b0eb7"
   },
   "outputs": [],
   "source": [
    "from sklearn import preprocessing\n",
    "\n",
    "labels = pd.read_csv('../data/ATR_GT_Training.csv', header=None)"
   ]
  },
  {
   "cell_type": "code",
   "execution_count": 4,
   "metadata": {
    "cell_id": "538b22b0212940c895aa75f02945ce25",
    "deepnote_cell_type": "code",
    "deepnote_to_be_reexecuted": false,
    "execution_millis": 4,
    "execution_start": 1681698543703,
    "source_hash": "fa399aac"
   },
   "outputs": [],
   "source": [
    "X = features[:1005]\n",
    "y = labels.iloc[:1005, 1]\n",
    "y_bin = (y!=0).astype(int)"
   ]
  },
  {
   "cell_type": "code",
   "execution_count": 5,
   "metadata": {
    "cell_id": "69470132b4fe4050a831bbba8862eec8",
    "deepnote_cell_type": "code",
    "deepnote_to_be_reexecuted": false,
    "execution_millis": 7,
    "execution_start": 1681698543708,
    "source_hash": "d18331dd"
   },
   "outputs": [],
   "source": [
    "X_scaled = preprocessing.scale(X)"
   ]
  },
  {
   "cell_type": "code",
   "execution_count": 6,
   "metadata": {
    "cell_id": "2e85fe7be60341fbb1d45a61a836ded4",
    "deepnote_cell_type": "code",
    "deepnote_to_be_reexecuted": false,
    "execution_millis": 3,
    "execution_start": 1681698543719,
    "source_hash": "a64aa049"
   },
   "outputs": [],
   "source": [
    "classifiers=[]"
   ]
  },
  {
   "cell_type": "code",
   "execution_count": 7,
   "metadata": {
    "cell_id": "202d1d0fdee249019f71904cce056e44",
    "deepnote_cell_type": "code",
    "deepnote_to_be_reexecuted": false,
    "execution_millis": 63,
    "execution_start": 1681698543723,
    "source_hash": "6af36175"
   },
   "outputs": [],
   "source": [
    "from sklearn import svm\n",
    "classifiers.append(['default svm', svm.SVC()])"
   ]
  },
  {
   "cell_type": "code",
   "execution_count": 8,
   "metadata": {
    "cell_id": "edb81d4ae3b24f228411d354f51746f5",
    "deepnote_cell_type": "code",
    "deepnote_to_be_reexecuted": false,
    "execution_millis": 116,
    "execution_start": 1681698543834,
    "source_hash": "e88bb441"
   },
   "outputs": [],
   "source": [
    "from sklearn.linear_model import LogisticRegression\n",
    "classifiers.append(['logistic reg', LogisticRegression(random_state=0, solver='lbfgs',multi_class='multinomial')])"
   ]
  },
  {
   "cell_type": "code",
   "execution_count": 9,
   "metadata": {
    "cell_id": "e6d48022ac634047834e93efeef8fae9",
    "deepnote_cell_type": "code",
    "deepnote_to_be_reexecuted": false,
    "execution_millis": 121,
    "execution_start": 1681698543834,
    "source_hash": "b96fc9be"
   },
   "outputs": [],
   "source": [
    "from sklearn.ensemble import AdaBoostClassifier\n",
    "classifiers.append(['adaboost', AdaBoostClassifier(n_estimators=100)])"
   ]
  },
  {
   "cell_type": "code",
   "execution_count": 10,
   "metadata": {
    "cell_id": "341186e37ec148bd9093156c934b8aa9",
    "deepnote_cell_type": "code",
    "deepnote_to_be_reexecuted": false,
    "execution_millis": 78,
    "execution_start": 1681698543878,
    "source_hash": "7c4c8950"
   },
   "outputs": [],
   "source": [
    "from sklearn.neighbors import KNeighborsClassifier\n",
    "classifiers.append(['knn 3', KNeighborsClassifier(n_neighbors=3)])"
   ]
  },
  {
   "cell_type": "code",
   "execution_count": 11,
   "metadata": {
    "cell_id": "1364214e9e8f4557b004483315a0aba1",
    "deepnote_cell_type": "code",
    "deepnote_to_be_reexecuted": false,
    "execution_millis": 78,
    "execution_start": 1681698543878,
    "source_hash": "82978c0e"
   },
   "outputs": [],
   "source": [
    "# Use a Multi-layer Perceptron classifier . It trains via backpropagation \n",
    "from sklearn.neural_network import MLPClassifier\n",
    "classifiers.append(['NN', MLPClassifier(solver='lbfgs', alpha=1e-5, hidden_layer_sizes=(5, 2), random_state=1)])"
   ]
  },
  {
   "cell_type": "code",
   "execution_count": 19,
   "metadata": {
    "tags": []
   },
   "outputs": [],
   "source": [
    "def getAcc(y_true,y_pred):\n",
    "    return accuracy_score(y_true,y_pred)\n",
    "\n",
    "def getPD(y_true,y_pred):\n",
    "    '''get percent detected (# targets detected / # targets)'''\n",
    "    return recall_score(y_true,y_pred)\n",
    "\n",
    "def getPFA(y_true,y_pred):\n",
    "    '''get percent false alarms (# false alarms / # non-targets)'''\n",
    "    return 1-accuracy_score(1-y_true,1-y_pred)"
   ]
  },
  {
   "cell_type": "code",
   "execution_count": 12,
   "metadata": {
    "cell_id": "94dbabf629604fb4ac02d914f7a34d48",
    "deepnote_cell_type": "code",
    "deepnote_to_be_reexecuted": false,
    "execution_millis": 36,
    "execution_start": 1681698543921,
    "source_hash": "4215db6f"
   },
   "outputs": [],
   "source": [
    "from sklearn.model_selection import cross_val_score\n",
    "def cross_validate(classifier,X,y,name,cv_=5):\n",
    "    scores = cross_val_score(classifier, X, y, cv=cv_)\n",
    "    print('Clf: {}\\nAccuracy: {:0.2f} +/- {:0.2f}'.format(name, scores.mean(), scores.std() * 2))"
   ]
  },
  {
   "cell_type": "code",
   "execution_count": 21,
   "metadata": {},
   "outputs": [],
   "source": [
    "from sklearn.model_selection import KFold\n",
    "from sklearn.metrics import accuracy_score, recall_score, precision_score\n",
    "def print_results(X, y, clf, strr):\n",
    "    kf = KFold(n_splits=5)\n",
    "    PD,PD1,PD2,PD3 = [],[],[],[]\n",
    "    PFA = []\n",
    "    acc=[]\n",
    "\n",
    "    for train_index, test_index in kf.split(X):\n",
    "        X_train, X_test = X[train_index], X[test_index]\n",
    "        y_train, y_test = y[train_index], y[test_index]\n",
    "\n",
    "        predict = clf.fit(X_train, y_train!=0).predict(X_test)\n",
    "\n",
    "        acc.append(getAcc(y_test!=0, predict))\n",
    "        PD.append(getPD(y_test!=0,   predict))\n",
    "        PD1.append(getPD(y_test==1,  predict))\n",
    "        PD2.append(getPD(y_test==2,  predict))\n",
    "        PD3.append(getPD(y_test==3,  predict))\n",
    "        PFA.append(getPFA(y_test!=0, predict))\n",
    "    \n",
    "    print(strr)\n",
    "    print('accuracy               ',np.mean(acc),'\\n')\n",
    "    print('percent detected       ',np.mean(PD),'\\n')\n",
    "    print('percent false alarm    ',np.mean(PFA),'\\n')\n",
    "    print('percent detected saline',np.mean(PD1))\n",
    "    print('percent detected rubber',np.mean(PD2))\n",
    "    print('percent detected clay  ',np.mean(PD3))\n",
    "    print('\\n\\n')\n",
    "    return np.mean(PD)"
   ]
  },
  {
   "cell_type": "code",
   "execution_count": 14,
   "metadata": {
    "cell_id": "606e2be759ee4644ad065089af579962",
    "deepnote_cell_type": "code",
    "deepnote_to_be_reexecuted": false,
    "execution_millis": 5049,
    "execution_start": 1681698543921,
    "source_hash": "b6e7c2c2"
   },
   "outputs": [
    {
     "name": "stdout",
     "output_type": "stream",
     "text": [
      "Clf: default svm\n",
      "Accuracy: 0.77 +/- 0.07\n",
      "Clf: logistic reg\n",
      "Accuracy: 0.77 +/- 0.07\n",
      "Clf: adaboost\n",
      "Accuracy: 0.83 +/- 0.05\n",
      "Clf: knn 3\n",
      "Accuracy: 0.75 +/- 0.05\n",
      "Clf: NN\n",
      "Accuracy: 0.76 +/- 0.05\n"
     ]
    }
   ],
   "source": [
    "import warnings\n",
    "warnings.filterwarnings('ignore')\n",
    "for classifier_name, classifier in classifiers:\n",
    "    cross_validate(classifier,X_scaled,y_bin,classifier_name)"
   ]
  },
  {
   "cell_type": "code",
   "execution_count": 15,
   "metadata": {
    "cell_id": "72d2556d045b4f13b51a05649e418bb3",
    "deepnote_cell_type": "code",
    "deepnote_to_be_reexecuted": false,
    "execution_millis": 4889,
    "execution_start": 1681698548972,
    "source_hash": "fce3cc48"
   },
   "outputs": [
    {
     "name": "stdout",
     "output_type": "stream",
     "text": [
      "Clf: ensemble\n",
      "Accuracy: 0.81 +/- 0.08\n"
     ]
    }
   ],
   "source": [
    "from sklearn.ensemble import VotingClassifier\n",
    "eclf = VotingClassifier(estimators=classifiers, voting='hard')\n",
    "cross_validate(eclf,X_scaled,y_bin,'ensemble')"
   ]
  },
  {
   "cell_type": "code",
   "execution_count": 26,
   "metadata": {},
   "outputs": [
    {
     "name": "stdout",
     "output_type": "stream",
     "text": [
      "ensemble\n",
      "accuracy                0.8119402985074625 \n",
      "\n",
      "percent detected        0.619568315784071 \n",
      "\n",
      "percent false alarm     0.1880597014925373 \n",
      "\n",
      "percent detected saline 0.561452380952381\n",
      "percent detected rubber 0.6684983239737059\n",
      "percent detected clay   0.6447191697191698\n",
      "\n",
      "\n",
      "\n",
      "ensemble\n",
      "accuracy                0.8238805970149252 \n",
      "\n",
      "percent detected        0.5487241181516845 \n",
      "\n",
      "percent false alarm     0.1761194029850746 \n",
      "\n",
      "percent detected saline 0.4373095238095238\n",
      "percent detected rubber 0.6474271908057986\n",
      "percent detected clay   0.5630982905982906\n",
      "\n",
      "\n",
      "\n",
      "ensemble\n",
      "accuracy                0.8447761194029851 \n",
      "\n",
      "percent detected        0.6198511682681813 \n",
      "\n",
      "percent false alarm     0.15522388059701492 \n",
      "\n",
      "percent detected saline 0.5773095238095238\n",
      "percent detected rubber 0.6293924948848548\n",
      "percent detected clay   0.6618681318681319\n",
      "\n",
      "\n",
      "\n",
      "ensemble\n",
      "accuracy                0.853731343283582 \n",
      "\n",
      "percent detected        0.6269835629711975 \n",
      "\n",
      "percent false alarm     0.14626865671641792 \n",
      "\n",
      "percent detected saline 0.4802619047619047\n",
      "percent detected rubber 0.7158525967524269\n",
      "percent detected clay   0.7434096459096459\n",
      "\n",
      "\n",
      "\n",
      "ensemble\n",
      "accuracy                0.8497512437810946 \n",
      "\n",
      "percent detected        0.6548652037299303 \n",
      "\n",
      "percent false alarm     0.1502487562189055 \n",
      "\n",
      "percent detected saline 0.5565952380952381\n",
      "percent detected rubber 0.674620173261939\n",
      "percent detected clay   0.7561477411477412\n",
      "\n",
      "\n",
      "\n",
      "ensemble\n",
      "accuracy                0.8537313432835821 \n",
      "\n",
      "percent detected        0.661069063947222 \n",
      "\n",
      "percent false alarm     0.14626865671641792 \n",
      "\n",
      "percent detected saline 0.5311190476190475\n",
      "percent detected rubber 0.6865711114013322\n",
      "percent detected clay   0.8168101343101343\n",
      "\n",
      "\n",
      "\n",
      "ensemble\n",
      "accuracy                0.8537313432835821 \n",
      "\n",
      "percent detected        0.6513322831412587 \n",
      "\n",
      "percent false alarm     0.14626865671641792 \n",
      "\n",
      "percent detected saline 0.5438095238095239\n",
      "percent detected rubber 0.6751153628488094\n",
      "percent detected clay   0.7612087912087911\n",
      "\n",
      "\n",
      "\n",
      "ensemble\n",
      "accuracy                0.8666666666666666 \n",
      "\n",
      "percent detected        0.6670345158992425 \n",
      "\n",
      "percent false alarm     0.13333333333333336 \n",
      "\n",
      "percent detected saline 0.5577857142857143\n",
      "percent detected rubber 0.6763560576378913\n",
      "percent detected clay   0.8053021978021979\n",
      "\n",
      "\n",
      "\n",
      "ensemble\n",
      "accuracy                0.8646766169154227 \n",
      "\n",
      "percent detected        0.6565844279414261 \n",
      "\n",
      "percent false alarm     0.13532338308457711 \n",
      "\n",
      "percent detected saline 0.5043333333333333\n",
      "percent detected rubber 0.6785490400940316\n",
      "percent detected clay   0.8574389499389501\n",
      "\n",
      "\n",
      "\n",
      "ensemble\n",
      "accuracy                0.864676616915423 \n",
      "\n",
      "percent detected        0.6882239740463811 \n",
      "\n",
      "percent false alarm     0.13532338308457711 \n",
      "\n",
      "percent detected saline 0.5762857142857143\n",
      "percent detected rubber 0.7001153628488093\n",
      "percent detected clay   0.84493894993895\n",
      "\n",
      "\n",
      "\n",
      "ensemble\n",
      "accuracy                0.8577114427860696 \n",
      "\n",
      "percent detected        0.6594840184116381 \n",
      "\n",
      "percent false alarm     0.14228855721393036 \n",
      "\n",
      "percent detected saline 0.5312619047619048\n",
      "percent detected rubber 0.6933339863305907\n",
      "percent detected clay   0.7959310134310134\n",
      "\n",
      "\n",
      "\n",
      "ensemble\n",
      "accuracy                0.8666666666666666 \n",
      "\n",
      "percent detected        0.6738762183384293 \n",
      "\n",
      "percent false alarm     0.13333333333333333 \n",
      "\n",
      "percent detected saline 0.5577857142857143\n",
      "percent detected rubber 0.6856416786382831\n",
      "percent detected clay   0.8275244200244201\n",
      "\n",
      "\n",
      "\n"
     ]
    },
    {
     "data": {
      "image/png": "[encoded data removed]",
      "text/plain": [
       "<Figure size 640x480 with 1 Axes>"
      ]
     },
     "metadata": {},
     "output_type": "display_data"
    }
   ],
   "source": [
    "e = [5, 10, 20, 40, 60, 80, 100, 150, 200, 250, 300, 500]\n",
    "from sklearn.ensemble import RandomForestClassifier\n",
    "p = []\n",
    "for ee in e:\n",
    "    p.append(print_results(X, y, RandomForestClassifier(n_estimators=ee, max_depth=None, min_samples_split=2), 'ensemble'))\n",
    "\n",
    "import matplotlib.pyplot as plt\n",
    "plt.plot(e,p)\n",
    "plt.xlabel('number of estimators')\n",
    "plt.ylabel('recall rate (%)')\n",
    "plt.savefig('estimators.png')\n",
    "plt.show()"
   ]
  },
  {
   "cell_type": "code",
   "execution_count": 23,
   "metadata": {},
   "outputs": [
    {
     "name": "stdout",
     "output_type": "stream",
     "text": [
      "ensemble\n",
      "accuracy                0.7701492537313432 \n",
      "\n",
      "percent detected        0.26736401225261686 \n",
      "\n",
      "percent false alarm     0.2298507462686567 \n",
      "\n",
      "percent detected saline 0.14097619047619048\n",
      "percent detected rubber 0.40077380175003263\n",
      "percent detected clay   0.26224664224664224\n",
      "\n",
      "\n",
      "\n",
      "ensemble\n",
      "accuracy                0.7800995024875621 \n",
      "\n",
      "percent detected        0.3420994478877434 \n",
      "\n",
      "percent false alarm     0.21990049751243781 \n",
      "\n",
      "percent detected saline 0.1716904761904762\n",
      "percent detected rubber 0.4250054416438118\n",
      "percent detected clay   0.47021978021978017\n",
      "\n",
      "\n",
      "\n",
      "ensemble\n",
      "accuracy                0.8099502487562189 \n",
      "\n",
      "percent detected        0.45454529559635615 \n",
      "\n",
      "percent false alarm     0.1900497512437811 \n",
      "\n",
      "percent detected saline 0.30788095238095237\n",
      "percent detected rubber 0.4977754560097514\n",
      "percent detected clay   0.6246123321123321\n",
      "\n",
      "\n",
      "\n",
      "ensemble\n",
      "accuracy                0.834825870646766 \n",
      "\n",
      "percent detected        0.5761954959055482 \n",
      "\n",
      "percent false alarm     0.1651741293532338 \n",
      "\n",
      "percent detected saline 0.3989047619047619\n",
      "percent detected rubber 0.6493089112359061\n",
      "percent detected clay   0.7538583638583638\n",
      "\n",
      "\n",
      "\n",
      "ensemble\n",
      "accuracy                0.8537313432835821 \n",
      "\n",
      "percent detected        0.654229617559753 \n",
      "\n",
      "percent false alarm     0.14626865671641792 \n",
      "\n",
      "percent detected saline 0.5491190476190476\n",
      "percent detected rubber 0.6443047755866093\n",
      "percent detected clay   0.8070879120879122\n",
      "\n",
      "\n",
      "\n",
      "ensemble\n",
      "accuracy                0.8676616915422887 \n",
      "\n",
      "percent detected        0.6977556233499096 \n",
      "\n",
      "percent false alarm     0.1323383084577114 \n",
      "\n",
      "percent detected saline 0.5916428571428571\n",
      "percent detected rubber 0.7018512472247617\n",
      "percent detected clay   0.8515323565323566\n",
      "\n",
      "\n",
      "\n",
      "ensemble\n",
      "accuracy                0.864676616915423 \n",
      "\n",
      "percent detected        0.7347217075604242 \n",
      "\n",
      "percent false alarm     0.13532338308457714 \n",
      "\n",
      "percent detected saline 0.6731904761904761\n",
      "percent detected rubber 0.7096893909712245\n",
      "percent detected clay   0.8592246642246643\n",
      "\n",
      "\n",
      "\n",
      "ensemble\n",
      "accuracy                0.8666666666666666 \n",
      "\n",
      "percent detected        0.7746837720507905 \n",
      "\n",
      "percent false alarm     0.13333333333333333 \n",
      "\n",
      "percent detected saline 0.7273333333333333\n",
      "percent detected rubber 0.7565669757520352\n",
      "percent detected clay   0.8658180708180708\n",
      "\n",
      "\n",
      "\n",
      "ensemble\n",
      "accuracy                0.8656716417910447 \n",
      "\n",
      "percent detected        0.7679508113043984 \n",
      "\n",
      "percent false alarm     0.13432835820895522 \n",
      "\n",
      "percent detected saline 0.737\n",
      "percent detected rubber 0.7229223803926691\n",
      "percent detected clay   0.8571947496947498\n",
      "\n",
      "\n",
      "\n"
     ]
    },
    {
     "data": {
      "image/png": "[encoded data removed]",
      "text/plain": [
       "<Figure size 640x480 with 1 Axes>"
      ]
     },
     "metadata": {},
     "output_type": "display_data"
    }
   ],
   "source": [
    "ee = [1, 2, 5, 10, 20, 30, 50, 75, 90]\n",
    "from sklearn.ensemble import RandomForestClassifier\n",
    "pp = []\n",
    "for eee in ee:\n",
    "    pp.append(print_results(X, y, RandomForestClassifier(n_estimators=100, max_depth=None, min_samples_split=2, max_features=eee), 'ensemble'))\n",
    "\n",
    "import matplotlib.pyplot as plt\n",
    "plt.plot(ee,pp)\n",
    "plt.xlabel('max number of features')\n",
    "plt.ylabel('recall rate (%)')\n",
    "plt.savefig('features.png')\n",
    "plt.show()"
   ]
  },
  {
   "cell_type": "code",
   "execution_count": 27,
   "metadata": {},
   "outputs": [
    {
     "name": "stdout",
     "output_type": "stream",
     "text": [
      "hi\n",
      "accuracy                0.8686567164179106 \n",
      "\n",
      "percent detected        0.7605101271341543 \n",
      "\n",
      "percent false alarm     0.13134328358208952 \n",
      "\n",
      "percent detected saline 0.728547619047619\n",
      "percent detected rubber 0.716782029515476\n",
      "percent detected clay   0.8717246642246643\n",
      "\n",
      "\n",
      "\n"
     ]
    },
    {
     "data": {
      "text/plain": [
       "0.7605101271341543"
      ]
     },
     "execution_count": 27,
     "metadata": {},
     "output_type": "execute_result"
    }
   ],
   "source": [
    "clff = RandomForestClassifier(n_estimators=200, max_depth=None, min_samples_split=2, max_features=100)\n",
    "print_results(X, y, clff, 'Random Forest')"
   ]
  },
  {
   "cell_type": "code",
   "execution_count": 28,
   "metadata": {
    "cell_id": "92a1e739365a4744a6b484b31cf6563b",
    "deepnote_cell_type": "code",
    "deepnote_to_be_reexecuted": false,
    "execution_millis": 1048,
    "execution_start": 1681702736416,
    "source_hash": "d1bc9924",
    "tags": []
   },
   "outputs": [],
   "source": [
    "clff = clff.fit(X, y)\n",
    "pred = clff.predict(features[1005:])\n",
    "filenames = labels.iloc[1005:, 0]\n",
    "pred_df = {'file': filenames, 'prediction': pred}\n",
    "pd.DataFrame(pred_df).to_csv('predictions2.csv')"
   ]
  },
  {
   "cell_type": "code",
   "execution_count": null,
   "metadata": {},
   "outputs": [],
   "source": []
  }
 ],
 "metadata": {
  "deepnote": {},
  "deepnote_execution_queue": [],
  "deepnote_notebook_id": "28ceedd824fe4aa49323b59ce0255e98",
  "kernelspec": {
   "display_name": "Python 3 (ipykernel)",
   "language": "python",
   "name": "python3"
  },
  "language_info": {
   "codemirror_mode": {
    "name": "ipython",
    "version": 3
   },
   "file_extension": ".py",
   "mimetype": "text/x-python",
   "name": "python",
   "nbconvert_exporter": "python",
   "pygments_lexer": "ipython3",
   "version": "3.11.3"
  }
 },
 "nbformat": 4,
 "nbformat_minor": 4
}
