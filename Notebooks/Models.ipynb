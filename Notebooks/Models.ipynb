{
 "cells": [
  {
   "cell_type": "markdown",
   "metadata": {},
   "source": [
    "# Initial Attempt:\n",
    "Uses Shape, Statistics, Histogram, and Regional features only"
   ]
  },
  {
   "cell_type": "code",
   "execution_count": 1,
   "metadata": {
    "cell_id": "5cb2732ee0ad441095d9e996f64265c1",
    "deepnote_cell_type": "code",
    "deepnote_to_be_reexecuted": false,
    "execution_millis": 5,
    "execution_start": 1681698543093,
    "source_hash": "c76c7c51",
    "tags": []
   },
   "outputs": [],
   "source": [
    "import pandas as pd\n",
    "import numpy as np"
   ]
  },
  {
   "cell_type": "code",
   "execution_count": 2,
   "metadata": {
    "cell_id": "52877f6986ec490fbc0848f452ecd6c8",
    "deepnote_cell_type": "code",
    "deepnote_to_be_reexecuted": false,
    "execution_millis": 33,
    "execution_start": 1681698543101,
    "source_hash": "d914b471",
    "tags": []
   },
   "outputs": [
    {
     "data": {
      "text/plain": [
       "(1472, 93)"
      ]
     },
     "execution_count": 2,
     "metadata": {},
     "output_type": "execute_result"
    }
   ],
   "source": [
    "features_regional = np.load('features_regional.npy')\n",
    "features_shape = np.load('features_shape.npy')\n",
    "features_stats = np.load('features_stats.npy')\n",
    "features_histogram = np.load('features_histogram.npy')\n",
    "\n",
    "features = np.concatenate((features_regional, features_shape,\n",
    "                           features_stats,features_histogram),axis=1)\n",
    "features.shape"
   ]
  },
  {
   "cell_type": "code",
   "execution_count": 3,
   "metadata": {
    "cell_id": "538b22b0212940c895aa75f02945ce25",
    "deepnote_cell_type": "code",
    "deepnote_to_be_reexecuted": false,
    "execution_millis": 4,
    "execution_start": 1681698543703,
    "source_hash": "fa399aac"
   },
   "outputs": [],
   "source": [
    "labels = pd.read_csv('../data/ATR_GT_Training.csv', header=None)\n",
    "X = features[:1005]\n",
    "y = labels.iloc[:1005, 1]\n",
    "y_bin = (y!=0).astype(int)"
   ]
  },
  {
   "cell_type": "code",
   "execution_count": 4,
   "metadata": {
    "cell_id": "69470132b4fe4050a831bbba8862eec8",
    "deepnote_cell_type": "code",
    "deepnote_to_be_reexecuted": false,
    "execution_millis": 7,
    "execution_start": 1681698543708,
    "source_hash": "d18331dd"
   },
   "outputs": [],
   "source": [
    "from sklearn import preprocessing\n",
    "X_scaled = preprocessing.scale(X)"
   ]
  },
  {
   "cell_type": "markdown",
   "metadata": {},
   "source": [
    "### SVM, LR, AdaBoost, 3NN, MLP, and Voting Classifier Testing"
   ]
  },
  {
   "cell_type": "code",
   "execution_count": 5,
   "metadata": {
    "cell_id": "2e85fe7be60341fbb1d45a61a836ded4",
    "deepnote_cell_type": "code",
    "deepnote_to_be_reexecuted": false,
    "execution_millis": 3,
    "execution_start": 1681698543719,
    "source_hash": "a64aa049"
   },
   "outputs": [],
   "source": [
    "classifiers=[]"
   ]
  },
  {
   "cell_type": "code",
   "execution_count": 6,
   "metadata": {
    "cell_id": "202d1d0fdee249019f71904cce056e44",
    "deepnote_cell_type": "code",
    "deepnote_to_be_reexecuted": false,
    "execution_millis": 63,
    "execution_start": 1681698543723,
    "source_hash": "6af36175"
   },
   "outputs": [],
   "source": [
    "from sklearn import svm\n",
    "classifiers.append(['SVM', svm.SVC()])"
   ]
  },
  {
   "cell_type": "code",
   "execution_count": 7,
   "metadata": {
    "cell_id": "edb81d4ae3b24f228411d354f51746f5",
    "deepnote_cell_type": "code",
    "deepnote_to_be_reexecuted": false,
    "execution_millis": 116,
    "execution_start": 1681698543834,
    "source_hash": "e88bb441"
   },
   "outputs": [],
   "source": [
    "from sklearn.linear_model import LogisticRegression\n",
    "classifiers.append(['Logistic Regression', LogisticRegression(random_state=0, solver='lbfgs',multi_class='multinomial')])"
   ]
  },
  {
   "cell_type": "code",
   "execution_count": 8,
   "metadata": {
    "cell_id": "e6d48022ac634047834e93efeef8fae9",
    "deepnote_cell_type": "code",
    "deepnote_to_be_reexecuted": false,
    "execution_millis": 121,
    "execution_start": 1681698543834,
    "source_hash": "b96fc9be"
   },
   "outputs": [],
   "source": [
    "from sklearn.ensemble import AdaBoostClassifier\n",
    "classifiers.append(['AdaBoost', AdaBoostClassifier(n_estimators=100)])"
   ]
  },
  {
   "cell_type": "code",
   "execution_count": 9,
   "metadata": {
    "cell_id": "341186e37ec148bd9093156c934b8aa9",
    "deepnote_cell_type": "code",
    "deepnote_to_be_reexecuted": false,
    "execution_millis": 78,
    "execution_start": 1681698543878,
    "source_hash": "7c4c8950"
   },
   "outputs": [],
   "source": [
    "from sklearn.neighbors import KNeighborsClassifier\n",
    "classifiers.append(['3NN', KNeighborsClassifier(n_neighbors=3)])"
   ]
  },
  {
   "cell_type": "code",
   "execution_count": 10,
   "metadata": {
    "cell_id": "1364214e9e8f4557b004483315a0aba1",
    "deepnote_cell_type": "code",
    "deepnote_to_be_reexecuted": false,
    "execution_millis": 78,
    "execution_start": 1681698543878,
    "source_hash": "82978c0e"
   },
   "outputs": [],
   "source": [
    "from sklearn.neural_network import MLPClassifier\n",
    "classifiers.append(['MLP', MLPClassifier(solver='lbfgs', alpha=1e-5, hidden_layer_sizes=(5, 2), random_state=1)])"
   ]
  },
  {
   "cell_type": "markdown",
   "metadata": {},
   "source": [
    "### Evaluate using 5-Fold Cross Validation"
   ]
  },
  {
   "cell_type": "code",
   "execution_count": 11,
   "metadata": {
    "cell_id": "94dbabf629604fb4ac02d914f7a34d48",
    "deepnote_cell_type": "code",
    "deepnote_to_be_reexecuted": false,
    "execution_millis": 36,
    "execution_start": 1681698543921,
    "source_hash": "4215db6f"
   },
   "outputs": [],
   "source": [
    "from sklearn.model_selection import cross_val_score\n",
    "def cross_validate(classifier,X,y,name,cv_=5):\n",
    "    scores = cross_val_score(classifier, X, y, cv=cv_)\n",
    "    print(name)\n",
    "    print('Accuracy: ', str(scores.mean()))\n",
    "    print('StDev: ', str(scores.std()))\n",
    "    print()"
   ]
  },
  {
   "cell_type": "code",
   "execution_count": 12,
   "metadata": {
    "cell_id": "606e2be759ee4644ad065089af579962",
    "deepnote_cell_type": "code",
    "deepnote_to_be_reexecuted": false,
    "execution_millis": 5049,
    "execution_start": 1681698543921,
    "source_hash": "b6e7c2c2"
   },
   "outputs": [
    {
     "name": "stdout",
     "output_type": "stream",
     "text": [
      "SVM\n",
      "Accuracy:  0.7910447761194029\n",
      "StDev:  0.031622385237951633\n",
      "\n",
      "Logistic Regression\n",
      "Accuracy:  0.7820895522388059\n",
      "StDev:  0.03466915699539174\n",
      "\n",
      "AdaBoost\n",
      "Accuracy:  0.8417910447761194\n",
      "StDev:  0.0414341548530488\n",
      "\n",
      "3NN\n",
      "Accuracy:  0.8189054726368159\n",
      "StDev:  0.039875552058734096\n",
      "\n",
      "MLP\n",
      "Accuracy:  0.8238805970149252\n",
      "StDev:  0.030278853840204865\n",
      "\n"
     ]
    }
   ],
   "source": [
    "import warnings\n",
    "warnings.filterwarnings('ignore')\n",
    "for classifier_name, classifier in classifiers:\n",
    "    cross_validate(classifier,X_scaled,y_bin,classifier_name)"
   ]
  },
  {
   "cell_type": "markdown",
   "metadata": {},
   "source": [
    "### Use the previous classifiers as estimators in a voting classifier"
   ]
  },
  {
   "cell_type": "code",
   "execution_count": 13,
   "metadata": {
    "cell_id": "72d2556d045b4f13b51a05649e418bb3",
    "deepnote_cell_type": "code",
    "deepnote_to_be_reexecuted": false,
    "execution_millis": 4889,
    "execution_start": 1681698548972,
    "source_hash": "fce3cc48"
   },
   "outputs": [
    {
     "name": "stdout",
     "output_type": "stream",
     "text": [
      "Voting\n",
      "Accuracy:  0.8447761194029851\n",
      "StDev:  0.0385884963774434\n",
      "\n"
     ]
    }
   ],
   "source": [
    "from sklearn.ensemble import VotingClassifier\n",
    "vclf = VotingClassifier(estimators=classifiers, voting='hard')\n",
    "cross_validate(vclf,X_scaled,y_bin,'Voting')"
   ]
  },
  {
   "cell_type": "markdown",
   "metadata": {},
   "source": [
    "### Use the voting classifier to generate predictions on the blind testing set"
   ]
  },
  {
   "cell_type": "code",
   "execution_count": 14,
   "metadata": {},
   "outputs": [],
   "source": [
    "vclf = vclf.fit(X, y)\n",
    "pred = vclf.predict(features[1005:])\n",
    "filenames = labels.iloc[1005:, 0]\n",
    "pred_df = {'file': filenames, 'prediction': pred}\n",
    "pd.DataFrame(pred_df).to_csv('votingpredictions.csv')"
   ]
  },
  {
   "cell_type": "markdown",
   "metadata": {},
   "source": [
    "### Preliminary Results\n",
    "Results from professor on testing predictions:<br>\n",
    "Recall Rate:0.20325 25/123<br>\n",
    "Precision Rate:0.98837 340/344<br>\n",
    "Saline Recall Rate:0 0/41<br>\n",
    "Rubber Recall Rate:0.25 11/44<br>\n",
    "Clay Recall Rate:0.36842 14/38"
   ]
  },
  {
   "cell_type": "markdown",
   "metadata": {},
   "source": [
    "# Refined Approach: Random Forest Testing\n",
    "Add texture features and use Random Forest"
   ]
  },
  {
   "cell_type": "code",
   "execution_count": 23,
   "metadata": {},
   "outputs": [
    {
     "data": {
      "text/plain": [
       "(1472, 327)"
      ]
     },
     "execution_count": 23,
     "metadata": {},
     "output_type": "execute_result"
    }
   ],
   "source": [
    "features_texture = np.load('features_texture.npy')\n",
    "features = np.concatenate((features_regional, features_shape,\n",
    "                           features_stats,features_histogram,np.nan_to_num(features_texture)),axis=1)\n",
    "X = features[:1005]\n",
    "features.shape"
   ]
  },
  {
   "cell_type": "code",
   "execution_count": 16,
   "metadata": {},
   "outputs": [],
   "source": [
    "from sklearn.model_selection import KFold\n",
    "from sklearn.metrics import accuracy_score, recall_score, precision_score\n",
    "def evaluate(X, y, clf, name):\n",
    "    kf = KFold(n_splits=5)\n",
    "    r,r1,r2,r3, fa, acc = [],[],[],[],[],[]\n",
    "\n",
    "    for train_index, test_index in kf.split(X):\n",
    "        X_train, X_test = X[train_index], X[test_index]\n",
    "        y_train, y_test = y[train_index], y[test_index]\n",
    "\n",
    "        predict = clf.fit(X_train, y_train!=0).predict(X_test)\n",
    "\n",
    "        acc.append(accuracy_score(y_test!=0, predict))\n",
    "        r.append(recall_score(y_test!=0,   predict))\n",
    "        r1.append(recall_score(y_test==1,  predict))\n",
    "        r2.append(recall_score(y_test==2,  predict))\n",
    "        r3.append(recall_score(y_test==3,  predict))\n",
    "        fa.append(1-accuracy_score(1-(y_test!=0), 1-predict))\n",
    "    \n",
    "    print(name)\n",
    "    print('accuracy      ',np.mean(acc))\n",
    "    print('recall        ',np.mean(r))\n",
    "    print('false alarm   ',np.mean(fa))\n",
    "    print('saline recall ',np.mean(r1))\n",
    "    print('rubber recall ',np.mean(r2))\n",
    "    print('clay recall   ',np.mean(r3))\n",
    "    print('\\n')\n",
    "    return np.mean(r)"
   ]
  },
  {
   "cell_type": "markdown",
   "metadata": {},
   "source": [
    "### Test the random forest classifier with different number of estimators"
   ]
  },
  {
   "cell_type": "code",
   "execution_count": 17,
   "metadata": {},
   "outputs": [
    {
     "name": "stdout",
     "output_type": "stream",
     "text": [
      "Random Forest\n",
      "accuracy       0.8129353233830845\n",
      "recall         0.6100856228028171\n",
      "false alarm    0.18706467661691542\n",
      "saline recall  0.5698095238095238\n",
      "rubber recall  0.5968688781507117\n",
      "clay recall    0.6835805860805861\n",
      "\n",
      "\n",
      "Random Forest\n",
      "accuracy       0.8228855721393036\n",
      "recall         0.5225329369450465\n",
      "false alarm    0.17711442786069653\n",
      "saline recall  0.4100714285714286\n",
      "rubber recall  0.6163053415175657\n",
      "clay recall    0.544551282051282\n",
      "\n",
      "\n",
      "Random Forest\n",
      "accuracy       0.8437810945273633\n",
      "recall         0.5931532214444484\n",
      "false alarm    0.15621890547263687\n",
      "saline recall  0.43809523809523815\n",
      "rubber recall  0.627015584867877\n",
      "clay recall    0.7678021978021978\n",
      "\n",
      "\n",
      "Random Forest\n",
      "accuracy       0.8606965174129353\n",
      "recall         0.6661915421749127\n",
      "false alarm    0.13930348258706468\n",
      "saline recall  0.5514523809523809\n",
      "rubber recall  0.7125233990683906\n",
      "clay recall    0.7774175824175824\n",
      "\n",
      "\n",
      "Random Forest\n",
      "accuracy       0.8587064676616916\n",
      "recall         0.6535163104078998\n",
      "false alarm    0.14129353233830846\n",
      "saline recall  0.5019523809523809\n",
      "rubber recall  0.7081189325671499\n",
      "clay recall    0.8055463980463979\n",
      "\n",
      "\n",
      "Random Forest\n",
      "accuracy       0.8507462686567164\n",
      "recall         0.640924383350564\n",
      "false alarm    0.1492537313432836\n",
      "saline recall  0.4936190476190476\n",
      "rubber recall  0.6574964085150843\n",
      "clay recall    0.8324389499389501\n",
      "\n",
      "\n",
      "Random Forest\n",
      "accuracy       0.8577114427860696\n",
      "recall         0.658425817353437\n",
      "false alarm    0.14228855721393036\n",
      "saline recall  0.5342380952380952\n",
      "rubber recall  0.695856732401724\n",
      "clay recall    0.793046398046398\n",
      "\n",
      "\n",
      "Random Forest\n",
      "accuracy       0.864676616915423\n",
      "recall         0.661774531319356\n",
      "false alarm    0.1353233830845771\n",
      "saline recall  0.5420952380952381\n",
      "rubber recall  0.7019970832789169\n",
      "clay recall    0.7792032967032967\n",
      "\n",
      "\n",
      "Random Forest\n",
      "accuracy       0.8616915422885573\n",
      "recall         0.6700970497047675\n",
      "false alarm    0.1383084577114428\n",
      "saline recall  0.5637857142857143\n",
      "rubber recall  0.6868823734273649\n",
      "clay recall    0.7959310134310134\n",
      "\n",
      "\n",
      "Random Forest\n",
      "accuracy       0.8676616915422886\n",
      "recall         0.6652962844520248\n",
      "false alarm    0.1323383084577114\n",
      "saline recall  0.5387857142857143\n",
      "rubber recall  0.6914522659004831\n",
      "clay recall    0.8084310134310133\n",
      "\n",
      "\n"
     ]
    },
    {
     "data": {
      "image/png": "[encoded data removed]",
      "text/plain": [
       "<Figure size 640x480 with 1 Axes>"
      ]
     },
     "metadata": {},
     "output_type": "display_data"
    }
   ],
   "source": [
    "estimators = [5, 10, 20, 40, 75, 100, 150, 200, 300, 500]\n",
    "from sklearn.ensemble import RandomForestClassifier\n",
    "recalls = []\n",
    "for n_estimators in estimators:\n",
    "    recalls.append(evaluate(X, y, RandomForestClassifier(n_estimators=n_estimators, max_depth=None, min_samples_split=2), 'Random Forest'))\n",
    "\n",
    "import matplotlib.pyplot as plt\n",
    "plt.plot(estimators,recalls)\n",
    "plt.xlabel('number of estimators')\n",
    "plt.ylabel('recall rate (%)')\n",
    "plt.show()"
   ]
  },
  {
   "cell_type": "markdown",
   "metadata": {},
   "source": [
    "### Test the random forest classifier with different numbers of max features"
   ]
  },
  {
   "cell_type": "code",
   "execution_count": 18,
   "metadata": {},
   "outputs": [
    {
     "name": "stdout",
     "output_type": "stream",
     "text": [
      "Random Forest\n",
      "accuracy       0.7641791044776118\n",
      "recall         0.2864792564504749\n",
      "false alarm    0.23582089552238808\n",
      "saline recall  0.15930952380952382\n",
      "rubber recall  0.38648404510034384\n",
      "clay recall    0.32172466422466417\n",
      "\n",
      "\n",
      "Random Forest\n",
      "accuracy       0.7890547263681592\n",
      "recall         0.36696158902746684\n",
      "false alarm    0.21094527363184082\n",
      "saline recall  0.23149999999999998\n",
      "rubber recall  0.4221942884506551\n",
      "clay recall    0.47514652014652015\n",
      "\n",
      "\n",
      "Random Forest\n",
      "accuracy       0.8139303482587064\n",
      "recall         0.4900593285200469\n",
      "false alarm    0.18606965174129353\n",
      "saline recall  0.3580952380952381\n",
      "rubber recall  0.5435168255626659\n",
      "clay recall    0.6116025641025641\n",
      "\n",
      "\n",
      "Random Forest\n",
      "accuracy       0.8437810945273633\n",
      "recall         0.5936247926547469\n",
      "false alarm    0.15621890547263678\n",
      "saline recall  0.44938095238095244\n",
      "rubber recall  0.6526381089199426\n",
      "clay recall    0.7383760683760684\n",
      "\n",
      "\n",
      "Random Forest\n",
      "accuracy       0.8616915422885573\n",
      "recall         0.6789542523472808\n",
      "false alarm    0.1383084577114428\n",
      "saline recall  0.5833095238095238\n",
      "rubber recall  0.6930227243045579\n",
      "clay recall    0.810460927960928\n",
      "\n",
      "\n",
      "Random Forest\n",
      "accuracy       0.8587064676616916\n",
      "recall         0.7020605648363883\n",
      "false alarm    0.1412935323383085\n",
      "saline recall  0.5831190476190476\n",
      "rubber recall  0.726667319663924\n",
      "clay recall    0.837002442002442\n",
      "\n",
      "\n",
      "Random Forest\n",
      "accuracy       0.8636815920398011\n",
      "recall         0.7322192949951185\n",
      "false alarm    0.136318407960199\n",
      "saline recall  0.6505\n",
      "rubber recall  0.7244743372077836\n",
      "clay recall    0.8658180708180708\n",
      "\n",
      "\n",
      "Random Forest\n",
      "accuracy       0.8766169154228856\n",
      "recall         0.7916871262356817\n",
      "false alarm    0.12338308457711444\n",
      "saline recall  0.7465238095238096\n",
      "rubber recall  0.7621936354533978\n",
      "clay recall    0.8860103785103786\n",
      "\n",
      "\n",
      "Random Forest\n",
      "accuracy       0.8666666666666666\n",
      "recall         0.7513644882795293\n",
      "false alarm    0.13333333333333333\n",
      "saline recall  0.6983571428571429\n",
      "rubber recall  0.7455269687867311\n",
      "clay recall    0.8372466422466424\n",
      "\n",
      "\n"
     ]
    },
    {
     "data": {
      "image/png": "[encoded data removed]",
      "text/plain": [
       "<Figure size 640x480 with 1 Axes>"
      ]
     },
     "metadata": {},
     "output_type": "display_data"
    }
   ],
   "source": [
    "max_features = [1, 2, 5, 10, 20, 30, 50, 75, 90]\n",
    "from sklearn.ensemble import RandomForestClassifier\n",
    "recalls = []\n",
    "for n_max_features in max_features:\n",
    "    recalls.append(evaluate(X, y, RandomForestClassifier(n_estimators=100, max_depth=None, min_samples_split=2, max_features=n_max_features), 'Random Forest'))\n",
    "\n",
    "import matplotlib.pyplot as plt\n",
    "plt.plot(max_features,recalls)\n",
    "plt.xlabel('max number of features')\n",
    "plt.ylabel('recall rate (%)')\n",
    "plt.show()"
   ]
  },
  {
   "cell_type": "markdown",
   "metadata": {},
   "source": [
    "### Generate predictions on the blind testing set"
   ]
  },
  {
   "cell_type": "code",
   "execution_count": 19,
   "metadata": {},
   "outputs": [
    {
     "name": "stdout",
     "output_type": "stream",
     "text": [
      "Random Forest\n",
      "accuracy       0.8597014925373134\n",
      "recall         0.7652664481680578\n",
      "false alarm    0.1402985074626866\n",
      "saline recall  0.7465238095238096\n",
      "rubber recall  0.697922380392669\n",
      "clay recall    0.8637881562881562\n",
      "\n",
      "\n"
     ]
    },
    {
     "data": {
      "text/plain": [
       "0.7652664481680578"
      ]
     },
     "execution_count": 19,
     "metadata": {},
     "output_type": "execute_result"
    }
   ],
   "source": [
    "rfc = RandomForestClassifier(n_estimators=200, max_depth=None, min_samples_split=2, max_features=100)\n",
    "evaluate(X, y, rfc, 'Random Forest')"
   ]
  },
  {
   "cell_type": "code",
   "execution_count": 20,
   "metadata": {
    "cell_id": "92a1e739365a4744a6b484b31cf6563b",
    "deepnote_cell_type": "code",
    "deepnote_to_be_reexecuted": false,
    "execution_millis": 1048,
    "execution_start": 1681702736416,
    "source_hash": "d1bc9924",
    "tags": []
   },
   "outputs": [],
   "source": [
    "rfc = rfc.fit(X, y)\n",
    "pred = rfc.predict(features[1005:])\n",
    "filenames = labels.iloc[1005:, 0]\n",
    "pred_df = {'file': filenames, 'prediction': pred}\n",
    "pd.DataFrame(pred_df).to_csv('randomforestpredictions.csv')"
   ]
  },
  {
   "cell_type": "markdown",
   "metadata": {
    "tags": []
   },
   "source": [
    "### Results\n",
    "Results from professor on testing predictions:<br>\n",
    "Recall Rate:0.72358 89/123<br>\n",
    "Precision Rate:0.90407 311/344<br>\n",
    "Saline Recall Rate:0.7561 31/41<br>\n",
    "Rubber Recall Rate:0.61364 27/44<br>\n",
    "Clay Recall Rate:0.81579 31/38"
   ]
  }
 ],
 "metadata": {
  "deepnote": {},
  "deepnote_execution_queue": [],
  "deepnote_notebook_id": "28ceedd824fe4aa49323b59ce0255e98",
  "kernelspec": {
   "display_name": "Python 3 (ipykernel)",
   "language": "python",
   "name": "python3"
  },
  "language_info": {
   "codemirror_mode": {
    "name": "ipython",
    "version": 3
   },
   "file_extension": ".py",
   "mimetype": "text/x-python",
   "name": "python",
   "nbconvert_exporter": "python",
   "pygments_lexer": "ipython3",
   "version": "3.11.3"
  }
 },
 "nbformat": 4,
 "nbformat_minor": 4
}
