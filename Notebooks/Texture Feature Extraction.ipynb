{
 "cells": [
  {
   "cell_type": "markdown",
   "id": "83e1ec61-9a03-4edf-905c-10e975e41a1b",
   "metadata": {},
   "source": [
    "# Texture Features"
   ]
  },
  {
   "cell_type": "code",
   "execution_count": 1,
   "id": "0217c9f4-3dd6-46fb-a79e-0529182aff9f",
   "metadata": {},
   "outputs": [],
   "source": [
    "import numpy as np\n",
    "import nibabel as nib\n",
    "import matplotlib.pyplot as plt\n",
    "import pandas as pd\n",
    "import time\n",
    "import itertools\n",
    "from math import sqrt, log, atan, degrees\n",
    "\n",
    "from skimage import feature\n",
    "from skimage.transform import resize"
   ]
  },
  {
   "cell_type": "markdown",
   "id": "d5f7c0a4-f0b8-4dec-bbeb-7e3459f11a26",
   "metadata": {},
   "source": [
    "### Load data"
   ]
  },
  {
   "cell_type": "code",
   "execution_count": 2,
   "id": "f7d41dff-a0d9-4b31-89c3-905bf2e19e94",
   "metadata": {},
   "outputs": [],
   "source": [
    "df = pd.read_csv('../data/ATR_GT_Training.csv', header=None, names=['file','label'])\n",
    "df.file = df.file.map(lambda x: x.replace(\"'\",''))\n",
    "df['img'] = df.file.map(lambda x: nib.load('../data/' + str(x) + '.nii.gz'))"
   ]
  },
  {
   "cell_type": "markdown",
   "id": "85e6ff6f-d0a2-40b1-bb2c-585a874f274e",
   "metadata": {},
   "source": [
    "### Define function to quantize and image"
   ]
  },
  {
   "cell_type": "code",
   "execution_count": 3,
   "id": "289d905c-48a9-4d7b-b650-cdefeb9f9c86",
   "metadata": {},
   "outputs": [],
   "source": [
    "def quantize_image(data, n_levels):\n",
    "    steps = np.max(data) / n_levels\n",
    "    if steps == 0: steps = 1\n",
    "    return (data / steps).astype(int)"
   ]
  },
  {
   "cell_type": "markdown",
   "id": "0d39b73d-f972-4c81-af74-733182378f15",
   "metadata": {},
   "source": [
    "### Define functions to compute GLCM and related features\n",
    "Full feature list includes: GLCV, angular_2nd_moment, energy, contrast, dissimilarity, entropy, mean, var, std_dev, correlation, and similarity"
   ]
  },
  {
   "cell_type": "code",
   "execution_count": 4,
   "id": "9adb4f75-0b9f-4186-bf0b-c0d28d809b51",
   "metadata": {},
   "outputs": [],
   "source": [
    "# https://prism.ucalgary.ca/handle/1880/51900 page 11\n",
    "# I = quantized img, Ng = number of gray levels\n",
    "def compute_glcm(I, Ng, dx, dy, dz, symmetric=True):\n",
    "    def get_range(Ng, d):\n",
    "        if d >= 0:\n",
    "            return range(Ng-d)\n",
    "        else:\n",
    "            return range(-d,Ng)\n",
    "    \n",
    "    glcm = np.zeros((Ng,Ng))\n",
    "    range_x = get_range(I.shape[0], dx)\n",
    "    range_y = get_range(I.shape[1], dy)\n",
    "    range_z = get_range(I.shape[2], dz)\n",
    "    \n",
    "    ix = itertools.product(range(Ng), range(Ng), range_x, range_y, range_y)\n",
    "    for i, j, x, y, z in ix:\n",
    "        if I[x,y,z] == i and I[x+dx, y+dy, z+dz] == j:\n",
    "            glcm[i,j] += 1\n",
    "    if symmetric:\n",
    "        glcm += glcm.T\n",
    "    return glcm / np.sum(glcm)\n",
    "\n",
    "# https://prism.ucalgary.ca/handle/1880/51900 page 24\n",
    "def compute_glcv(glcm, Ng):\n",
    "    glcv = np.zeros((Ng))\n",
    "    for i, j in itertools.product(range(Ng), range(Ng)):\n",
    "        glcv[abs(i-j)] += glcm[i,j]\n",
    "    return glcv\n",
    "\n",
    "# https://prism.ucalgary.ca/handle/1880/51900 page 30\n",
    "def compute_contrast(glcm, Ng):\n",
    "    contrast = 0\n",
    "    for i, j in itertools.product(range(Ng),range(Ng)):\n",
    "        contrast += (i-j)**2 * glcm[i,j]\n",
    "    return contrast\n",
    "\n",
    "# https://prism.ucalgary.ca/handle/1880/51900 page 32\n",
    "def compute_dissimilarity(glcm, Ng):\n",
    "    dissimilarity = 0\n",
    "    for i, j in itertools.product(range(Ng),range(Ng)):\n",
    "        dissimilarity += abs(i-j) * glcm[i,j]\n",
    "    return dissimilarity\n",
    "\n",
    "# https://prism.ucalgary.ca/handle/1880/51900 page 32\n",
    "def compute_homogeneity(glcm, Ng):\n",
    "    homogeneity = 0\n",
    "    for i, j in itertools.product(range(Ng),range(Ng)):\n",
    "        homogeneity += glcm[i,j] / (1 + (i-j)**2)\n",
    "    return homogeneity\n",
    "        \n",
    "# https://prism.ucalgary.ca/handle/1880/51900 page 36\n",
    "def compute_angular_2nd_moment(glcm, Ng):\n",
    "    a2m = 0\n",
    "    for i, j in itertools.product(range(Ng),range(Ng)):\n",
    "        a2m += glcm[i,j]**2\n",
    "    return a2m\n",
    "\n",
    "# https://prism.ucalgary.ca/handle/1880/51900 page 36\n",
    "def compute_energy(glcm, Ng):\n",
    "    return sqrt(compute_angular_2nd_moment)\n",
    "\n",
    "# https://prism.ucalgary.ca/handle/1880/51900 page 37\n",
    "def compute_entropy(glcm, Ng):\n",
    "    entropy = 0\n",
    "    for i, j in itertools.product(range(Ng),range(Ng)):\n",
    "        if glcm[i,j] != 0:\n",
    "            entropy += glcm[i,j] * -log(glcm[i,j])\n",
    "    return entropy\n",
    "\n",
    "# https://prism.ucalgary.ca/handle/1880/51900 page 40\n",
    "def compute_glcm_mean(glcm, Ng, axis):\n",
    "    mean = 0\n",
    "    for i, j in itertools.product(range(Ng),range(Ng)):\n",
    "        if axis == 0:\n",
    "            mean += i * glcm[i,j]\n",
    "        elif axis == 1:\n",
    "            mean += j * glcm[i,j]\n",
    "    return mean\n",
    "\n",
    "# https://prism.ucalgary.ca/handle/1880/51900 page 41\n",
    "def compute_glcm_variance(glcm, Ng, axis, mean=None):\n",
    "    if mean == None:\n",
    "        mean = compute_glcm_mean(glcm, Ng, axis)\n",
    "        \n",
    "    variance = 0\n",
    "    for i, j in itertools.product(range(Ng),range(Ng)):\n",
    "        if axis == 0:\n",
    "            variance += (i-mean)**2 * glcm[i,j]\n",
    "        elif axis == 1:\n",
    "            variance += (j-mean)**2 * glcm[i,j]\n",
    "    return variance\n",
    "\n",
    "# https://prism.ucalgary.ca/handle/1880/51900 page 41\n",
    "def compute_glcm_std_dev(glcm, Ng, axis, mean=None):\n",
    "    return sqrt(compute_glcm_variance(glcm, Ng, axis))\n",
    "\n",
    "# https://prism.ucalgary.ca/handle/1880/51900 page 43\n",
    "def compute_correlation(glcm, Ng, u_i, u_j, var_i, var_j):\n",
    "    correlation = 0\n",
    "    for i, j in itertools.product(range(Ng),range(Ng)):\n",
    "        correlation += glcm[i,j] * (i - u_i) * (j - u_j) / sqrt(var_i * var_j)\n",
    "    return correlation\n",
    "\n",
    "# https://prism.ucalgary.ca/handle/1880/51900 page 43\n",
    "def compute_similarity(glcm, Ng):\n",
    "    similarity = 0\n",
    "    for i, j in itertools.product(range(Ng),range(Ng)):\n",
    "        similarity += glcm[i,j] / (1 + abs(i-j))\n",
    "    return similarity"
   ]
  },
  {
   "cell_type": "markdown",
   "id": "b7df8b50-2bb8-4638-b4c1-eb4bf47ad110",
   "metadata": {},
   "source": [
    "### Compute texture features for all images"
   ]
  },
  {
   "cell_type": "code",
   "execution_count": 5,
   "id": "dafba354-3af3-4e72-a1f7-19eda73fb17d",
   "metadata": {},
   "outputs": [
    {
     "name": "stdout",
     "output_type": "stream",
     "text": [
      "Finished 25 images.\n"
     ]
    },
    {
     "name": "stderr",
     "output_type": "stream",
     "text": [
      "C:\\Users\\coone\\AppData\\Local\\Temp\\ipykernel_4972\\3418793545.py:101: RuntimeWarning: invalid value encountered in scalar divide\n",
      "  correlation += glcm[i,j] * (i - u_i) * (j - u_j) / sqrt(var_i * var_j)\n"
     ]
    },
    {
     "name": "stdout",
     "output_type": "stream",
     "text": [
      "Finished 50 images.\n",
      "Finished 75 images.\n",
      "Finished 100 images.\n",
      "Finished 125 images.\n",
      "Finished 150 images.\n",
      "Finished 175 images.\n",
      "Finished 200 images.\n",
      "Finished 225 images.\n",
      "Finished 250 images.\n",
      "Finished 275 images.\n",
      "Finished 300 images.\n",
      "Finished 325 images.\n",
      "Finished 350 images.\n",
      "Finished 375 images.\n",
      "Finished 400 images.\n",
      "Finished 425 images.\n",
      "Finished 450 images.\n",
      "Finished 475 images.\n",
      "Finished 500 images.\n",
      "Finished 525 images.\n",
      "Finished 550 images.\n",
      "Finished 575 images.\n",
      "Finished 600 images.\n",
      "Finished 625 images.\n",
      "Finished 650 images.\n",
      "Finished 675 images.\n",
      "Finished 700 images.\n",
      "Finished 725 images.\n",
      "Finished 750 images.\n",
      "Finished 775 images.\n",
      "Finished 800 images.\n",
      "Finished 825 images.\n",
      "Finished 850 images.\n",
      "Finished 875 images.\n",
      "Finished 900 images.\n",
      "Finished 925 images.\n",
      "Finished 950 images.\n",
      "Finished 975 images.\n",
      "Finished 1000 images.\n",
      "Finished 1025 images.\n",
      "Finished 1050 images.\n",
      "Finished 1075 images.\n",
      "Finished 1100 images.\n",
      "Finished 1125 images.\n",
      "Finished 1150 images.\n",
      "Finished 1175 images.\n",
      "Finished 1200 images.\n",
      "Finished 1225 images.\n",
      "Finished 1250 images.\n",
      "Finished 1275 images.\n",
      "Finished 1300 images.\n",
      "Finished 1325 images.\n",
      "Finished 1350 images.\n",
      "Finished 1375 images.\n",
      "Finished 1400 images.\n",
      "Finished 1425 images.\n",
      "Finished 1450 images.\n",
      "Finished\n"
     ]
    }
   ],
   "source": [
    "Ng = 8\n",
    "displacement_vectors = [[0,1,0],[-1,1,0],[-1,0,0],[-1,-1,0],\n",
    "                       [0,1,-1],[0,0,-1],[0,-1,-1],[-1,0,-1],\n",
    "                       [1,0,-1],[-1,1,-1],[1,-1,-1],[-1,-1,-1],[1,1,-1]]\n",
    "texture_flat = []\n",
    "\n",
    "for i, img in enumerate(df.img):\n",
    "    data = img.get_fdata()\n",
    "    data32 = resize(data, (16,16,16), mode='reflect', anti_aliasing=False)\n",
    "    quantized_img = quantize_image(data32, Ng)\n",
    "    \n",
    "    texture_features = []\n",
    "    for vector in displacement_vectors[:]:\n",
    "        dx,dy,dz = vector\n",
    "        start = time.time()\n",
    "        glcm = compute_glcm(quantized_img, Ng, dx, dy, dz)\n",
    "        glcv = compute_glcv(glcm, Ng)\n",
    "        angular_2nd_moment = compute_angular_2nd_moment(glcm, Ng)\n",
    "        energy = sqrt(angular_2nd_moment)\n",
    "        contrast = compute_contrast(glcm, Ng)\n",
    "        dissimilarity = compute_dissimilarity(glcm, Ng)\n",
    "        entropy = compute_entropy(glcm, Ng)\n",
    "        mean = compute_glcm_mean(glcm, Ng, 0)\n",
    "        var = compute_glcm_variance(glcm, Ng, 0, mean)\n",
    "        std_dev = sqrt(var)\n",
    "        correlation = compute_correlation(glcm, Ng, mean, mean, var, var)\n",
    "        similarity = compute_similarity(glcm, Ng)\n",
    "        features = list(glcv) + [angular_2nd_moment, energy, contrast, dissimilarity,\n",
    "                               entropy, mean, var, std_dev, correlation, similarity]\n",
    "        texture_features.append(features)\n",
    "    texture_features = np.array(texture_features)\n",
    "    texture_flat.append(list(np.resize(texture_features, np.product(texture_features.shape))))\n",
    "    if i % 25 == 0 and i != 0:\n",
    "        print('Finished ' + str(i) + ' images.')\n",
    "print('Finished')"
   ]
  },
  {
   "cell_type": "code",
   "execution_count": 6,
   "id": "3992a781-9fd8-41f5-bd54-226a9a4b94e0",
   "metadata": {
    "tags": []
   },
   "outputs": [],
   "source": [
    "np.save('features_texture.npy',np.array(texture_flat))"
   ]
  }
 ],
 "metadata": {
  "kernelspec": {
   "display_name": "Python 3 (ipykernel)",
   "language": "python",
   "name": "python3"
  },
  "language_info": {
   "codemirror_mode": {
    "name": "ipython",
    "version": 3
   },
   "file_extension": ".py",
   "mimetype": "text/x-python",
   "name": "python",
   "nbconvert_exporter": "python",
   "pygments_lexer": "ipython3",
   "version": "3.11.3"
  }
 },
 "nbformat": 4,
 "nbformat_minor": 5
}
